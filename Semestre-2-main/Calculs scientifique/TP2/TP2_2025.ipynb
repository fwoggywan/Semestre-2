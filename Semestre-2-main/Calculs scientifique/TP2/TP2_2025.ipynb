{
 "cells": [
  {
   "cell_type": "markdown",
   "metadata": {
    "deletable": false,
    "run_control": {
     "frozen": true
    }
   },
   "source": [
    "## L1 informatique -- calcul scientifique\n",
    "## TP 2 --   Sympy"
   ]
  },
  {
   "cell_type": "markdown",
   "metadata": {},
   "source": [
    "##  Exercice 1 -- étude de fonctions avec Sympy"
   ]
  },
  {
   "cell_type": "code",
   "execution_count": 1,
   "metadata": {},
   "outputs": [],
   "source": [
    "import sympy as sp"
   ]
  },
  {
   "cell_type": "markdown",
   "metadata": {},
   "source": [
    "1. Au moyen de la librairie `sympy`, définir de manière symbolique la fonction \n",
    "$f(x)=\\frac{(x+4+(3x+5))}{(x+4)^2}$\n",
    "\n",
    "Afficher $f$  . On essayera plusieurs affichages (print, display, sp.pprint )\n",
    "\n",
    "\n",
    "Afficher $f(2)$ puis calculer une valeur approchée de $f(2)$.\n",
    "\n"
   ]
  },
  {
   "cell_type": "code",
   "execution_count": 2,
   "metadata": {},
   "outputs": [
    {
     "data": {
      "text/latex": [
       "$\\displaystyle \\frac{4 x + 9}{\\left(x + 4\\right)^{2}}$"
      ],
      "text/plain": [
       "(4*x + 9)/(x + 4)**2"
      ]
     },
     "metadata": {},
     "output_type": "display_data"
    },
    {
     "data": {
      "text/latex": [
       "$\\displaystyle \\frac{17}{36}$"
      ],
      "text/plain": [
       "17/36"
      ]
     },
     "metadata": {},
     "output_type": "display_data"
    }
   ],
   "source": [
    "# A compléter ...\n",
    "# ...\n",
    "x = sp.Symbol(\"x\")\n",
    "f = ((x+4+(3*x+5))/(x+4)**2)\n",
    "display(f)\n",
    "f2 =f.subs(x,2)\n",
    "display(f2)"
   ]
  },
  {
   "cell_type": "markdown",
   "metadata": {},
   "source": [
    "<hr/>\n",
    "2a. Calculez la dérivée de f(x).\n"
   ]
  },
  {
   "cell_type": "code",
   "execution_count": 3,
   "metadata": {},
   "outputs": [
    {
     "data": {
      "text/latex": [
       "$\\displaystyle \\frac{4}{\\left(x + 4\\right)^{2}} - \\frac{2 \\left(4 x + 9\\right)}{\\left(x + 4\\right)^{3}}$"
      ],
      "text/plain": [
       "4/(x + 4)**2 - 2*(4*x + 9)/(x + 4)**3"
      ]
     },
     "metadata": {},
     "output_type": "display_data"
    }
   ],
   "source": [
    "# A compléter ...\n",
    "# ...\n",
    "r1 = sp.diff(f,x)\n",
    "display(r1)"
   ]
  },
  {
   "cell_type": "markdown",
   "metadata": {},
   "source": [
    "<hr/>\n",
    "2b. Calculer les zéros de la dérivée."
   ]
  },
  {
   "cell_type": "code",
   "execution_count": 4,
   "metadata": {},
   "outputs": [
    {
     "data": {
      "text/latex": [
       "$\\displaystyle \\frac{4}{\\left(x + 4\\right)^{2}} - \\frac{2 \\left(4 x + 9\\right)}{\\left(x + 4\\right)^{3}} = 0$"
      ],
      "text/plain": [
       "Eq(4/(x + 4)**2 - 2*(4*x + 9)/(x + 4)**3, 0)"
      ]
     },
     "metadata": {},
     "output_type": "display_data"
    },
    {
     "data": {
      "text/plain": [
       "[-1/2]"
      ]
     },
     "metadata": {},
     "output_type": "display_data"
    }
   ],
   "source": [
    "# A compléter ...\n",
    "# ...\n",
    "f0 = sp.Eq(r1,0)\n",
    "display(f0)\n",
    "\n",
    "solution = sp.solve(f0)\n",
    "display(solution)"
   ]
  },
  {
   "cell_type": "markdown",
   "metadata": {},
   "source": [
    "<hr/>\n",
    "2c. Exprimer la dérivée sous forme factorisée (fonction factor) pour vérifier ses zéros. "
   ]
  },
  {
   "cell_type": "code",
   "execution_count": 5,
   "metadata": {
    "scrolled": true
   },
   "outputs": [
    {
     "data": {
      "text/latex": [
       "$\\displaystyle - \\frac{2 \\left(2 x + 1\\right)}{\\left(x + 4\\right)^{3}}$"
      ],
      "text/plain": [
       "-2*(2*x + 1)/(x + 4)**3"
      ]
     },
     "metadata": {},
     "output_type": "display_data"
    }
   ],
   "source": [
    "# A compléter ...\n",
    "# ...\n",
    "fact = sp.factor(r1)\n",
    "display(fact)"
   ]
  },
  {
   "cell_type": "markdown",
   "metadata": {},
   "source": [
    "<hr/>\n",
    "3. Calculer les limites de f(x) quand $x \\to -\\infty$, $x \\to +\\infty$, $x \\to 2$,$x \\to -4$"
   ]
  },
  {
   "cell_type": "code",
   "execution_count": 7,
   "metadata": {
    "scrolled": true
   },
   "outputs": [
    {
     "data": {
      "text/latex": [
       "$\\displaystyle 0$"
      ],
      "text/plain": [
       "0"
      ]
     },
     "metadata": {},
     "output_type": "display_data"
    },
    {
     "data": {
      "text/latex": [
       "$\\displaystyle 0$"
      ],
      "text/plain": [
       "0"
      ]
     },
     "metadata": {},
     "output_type": "display_data"
    },
    {
     "data": {
      "text/latex": [
       "$\\displaystyle \\frac{17}{36}$"
      ],
      "text/plain": [
       "17/36"
      ]
     },
     "metadata": {},
     "output_type": "display_data"
    },
    {
     "data": {
      "text/latex": [
       "$\\displaystyle -\\infty$"
      ],
      "text/plain": [
       "-oo"
      ]
     },
     "metadata": {},
     "output_type": "display_data"
    }
   ],
   "source": [
    "# A compléter ...\n",
    "# ...\n",
    "limite1 = sp.limit(f,x,-sp.oo)\n",
    "limite2 = sp.limit(f,x,sp.oo)\n",
    "limite3 = sp.limit(f,x,2)\n",
    "limite4 = sp.limit(f,x,-4)\n",
    "display(limite1)\n",
    "display(limite2)\n",
    "display(limite3)\n",
    "display(limite4)"
   ]
  },
  {
   "cell_type": "markdown",
   "metadata": {},
   "source": [
    "<hr/>\n",
    "4a. Tracer la courbe représentative de f "
   ]
  },
  {
   "cell_type": "code",
   "execution_count": 8,
   "metadata": {},
   "outputs": [
    {
     "data": {
      "image/png": "[encoded data removed]",
      "text/plain": [
       "<Figure size 432x288 with 1 Axes>"
      ]
     },
     "metadata": {
      "needs_background": "light"
     },
     "output_type": "display_data"
    },
    {
     "data": {
      "text/plain": [
       "<sympy.plotting.plot.Plot at 0x7f96de6e0f10>"
      ]
     },
     "metadata": {},
     "output_type": "display_data"
    }
   ],
   "source": [
    "# A compléter ...\n",
    "# ...\n",
    "courbe = sp.plot(f)\n",
    "display(courbe)"
   ]
  },
  {
   "cell_type": "markdown",
   "metadata": {},
   "source": [
    "<hr/>\n",
    "4b.Modifier la commande pour ne tracer la courbe que pour y compris entre -6 et +2 en utilisant l’option ylim\n",
    "\n",
    "On écrira ylim=(a,b) à l'intérieur du plot.\n",
    "\n",
    "    "
   ]
  },
  {
   "cell_type": "code",
   "execution_count": 9,
   "metadata": {},
   "outputs": [
    {
     "data": {
      "image/png": "[encoded data removed]",
      "text/plain": [
       "<Figure size 432x288 with 1 Axes>"
      ]
     },
     "metadata": {
      "needs_background": "light"
     },
     "output_type": "display_data"
    },
    {
     "data": {
      "text/plain": [
       "<sympy.plotting.plot.Plot at 0x7f9701a0d900>"
      ]
     },
     "metadata": {},
     "output_type": "display_data"
    }
   ],
   "source": [
    "# A compléter ...\n",
    "# ...\n",
    "courbe2 = sp.plot(f, ylim =(-6,2))\n",
    "display(courbe2)"
   ]
  },
  {
   "cell_type": "markdown",
   "metadata": {},
   "source": [
    "<hr/>\n",
    "4c.Limiter cette fois le dessin aux abscisses comprises entre -2.5 et 5"
   ]
  },
  {
   "cell_type": "code",
   "execution_count": 10,
   "metadata": {},
   "outputs": [
    {
     "data": {
      "image/png": "[encoded data removed]",
      "text/plain": [
       "<Figure size 432x288 with 1 Axes>"
      ]
     },
     "metadata": {
      "needs_background": "light"
     },
     "output_type": "display_data"
    },
    {
     "data": {
      "text/plain": [
       "<sympy.plotting.plot.Plot at 0x7f9695bb71c0>"
      ]
     },
     "metadata": {},
     "output_type": "display_data"
    }
   ],
   "source": [
    "# A compléter ...\n",
    "# ...\n",
    "courbe3 = sp.plot(f , xlim = (-2.5,5))\n",
    "display(courbe3)"
   ]
  },
  {
   "cell_type": "markdown",
   "metadata": {},
   "source": [
    "## Exercice 2"
   ]
  },
  {
   "cell_type": "markdown",
   "metadata": {},
   "source": [
    "1) On considère les fonctions définies par:\n",
    "\n",
    "$f_{a,b,c,d}(x)= -0.05*(ax^3 + bx^2 + cx + d)$  où a,b,c,d seront des paramètres qu'on pourra faire varier.\n",
    "\n",
    "Définir $f_{a,b,c,d}$ à l'aide de sympy "
   ]
  },
  {
   "cell_type": "code",
   "execution_count": 11,
   "metadata": {},
   "outputs": [
    {
     "data": {
      "text/latex": [
       "$\\displaystyle - 0.05 a x^{3} - 0.05 b x^{2} - 0.05 c x - 0.05 d$"
      ],
      "text/plain": [
       "-0.05*a*x**3 - 0.05*b*x**2 - 0.05*c*x - 0.05*d"
      ]
     },
     "metadata": {},
     "output_type": "display_data"
    }
   ],
   "source": [
    "# Déclarer les symboles x, a, b, c et d\n",
    "# ...\n",
    "x,a,b,c,d = sp.symbols('x,a,b,c,d')\n",
    "\n",
    "# Déclarer la fonction fab\n",
    "# ...\n",
    "fab = -0.05 *(a*x**3 + b*x**2 + c*x + d)\n",
    "\n",
    "\n",
    "# Afficher la fonction fab\n",
    "# ...\n",
    "display(fab)\n",
    "\n"
   ]
  },
  {
   "cell_type": "markdown",
   "metadata": {},
   "source": [
    "<hr/> \n",
    "\n",
    "2) Calculer la limite limite de $f_{a,b,c,d}(x)$ quand x tend vers +infini avec `sympy`  "
   ]
  },
  {
   "cell_type": "code",
   "execution_count": 13,
   "metadata": {},
   "outputs": [
    {
     "data": {
      "text/latex": [
       "$\\displaystyle - \\infty \\operatorname{sign}{\\left(a \\right)}$"
      ],
      "text/plain": [
       "-oo*sign(a)"
      ]
     },
     "metadata": {},
     "output_type": "display_data"
    }
   ],
   "source": [
    "# A compléter ...\n",
    "# ...\n",
    "lim = sp.limit(fab,x,sp.oo)\n",
    "display(lim)"
   ]
  },
  {
   "cell_type": "markdown",
   "metadata": {},
   "source": [
    "<hr/> \n",
    "\n",
    "3) Calculer la dérivée de $f_{a,b,c,d}$.\n"
   ]
  },
  {
   "cell_type": "code",
   "execution_count": 14,
   "metadata": {},
   "outputs": [
    {
     "data": {
      "text/latex": [
       "$\\displaystyle - 0.15 a x^{2} - 0.1 b x - 0.05 c$"
      ],
      "text/plain": [
       "-0.15*a*x**2 - 0.1*b*x - 0.05*c"
      ]
     },
     "metadata": {},
     "output_type": "display_data"
    }
   ],
   "source": [
    "# A compléter ...\n",
    "# ...\n",
    "r = sp.diff(fab,x)\n",
    "display(r)"
   ]
  },
  {
   "cell_type": "markdown",
   "metadata": {},
   "source": [
    "<hr/> \n",
    "4) On s'intéresse à $h=f_{6,5,-1,-1}$ et $g=f_{-2,5,3,0}$\n",
    "\n",
    "Ecrire les expressions correspondantes.\n",
    "\n",
    "Tracer avec `sympy`, pour $x\\in[-3,3]$,  le graphe des fonctions $h$ et $g$ , sur le même graphique et avec légende comme ci-dessous."
   ]
  },
  {
   "cell_type": "code",
   "execution_count": 19,
   "metadata": {},
   "outputs": [
    {
     "data": {
      "image/png": "[encoded data removed]",
      "text/plain": [
       "<Figure size 432x288 with 1 Axes>"
      ]
     },
     "metadata": {
      "needs_background": "light"
     },
     "output_type": "display_data"
    }
   ],
   "source": [
    "# A compléter ...\n",
    "# ...\n",
    "h =-0.05 *(6*x**3 + 5*x**2 -1*x -1)\n",
    "g = -0.05 *(-2*x**3 + 5*x**2 + 3*x + 0)\n",
    "p1 = sp.plot(h , show = False)\n",
    "p2 = sp.plot(g , show = False)\n",
    "p1.append(p2[0])\n",
    "p1.show()"
   ]
  },
  {
   "cell_type": "markdown",
   "metadata": {},
   "source": [
    "<hr/> \n",
    "\n",
    "5) à L'aide de la dérivée, déterminer les abscisses des points extremums de h"
   ]
  },
  {
   "cell_type": "code",
   "execution_count": null,
   "metadata": {},
   "outputs": [],
   "source": [
    "# A compléter ...\n",
    "# ...\n"
   ]
  },
  {
   "cell_type": "markdown",
   "metadata": {},
   "source": [
    "<hr/> \n",
    "\n",
    "6) Vu le dessin, on voudrait mieux observer ce qui se passe entre -1 et 1. Refaire le shéma."
   ]
  },
  {
   "cell_type": "code",
   "execution_count": null,
   "metadata": {},
   "outputs": [],
   "source": [
    "# A compléter ...\n",
    "# ...\n"
   ]
  },
  {
   "cell_type": "markdown",
   "metadata": {},
   "source": [
    "<hr/> \n",
    "\n",
    "\n",
    "7) Déterminer avec sympy les abscisses des points d'intersection de $h$ et de $g$. "
   ]
  },
  {
   "cell_type": "code",
   "execution_count": null,
   "metadata": {},
   "outputs": [],
   "source": [
    "# A compléter ...\n",
    "# ...\n"
   ]
  },
  {
   "cell_type": "markdown",
   "metadata": {},
   "source": [
    "<hr/> \n",
    "\n",
    "\n",
    "8) On appellera x1 et x2 les deux abscisses des points d'intersection de h et g les plus grandes (les deux dernières).\n",
    "\n",
    "Déterminer l'aire comprise entre les deux courbes pour x variant entre x1 et x2."
   ]
  },
  {
   "cell_type": "code",
   "execution_count": null,
   "metadata": {},
   "outputs": [],
   "source": [
    "# A compléter ...\n",
    "# ...\n"
   ]
  },
  {
   "cell_type": "markdown",
   "metadata": {},
   "source": [
    "## Exercice 3 :  logique\n",
    "Les valeurs Booléennes qui représentent le vrai et le faux sont True et False. Les opérations logiques\n",
    "utilisées sont :  \n",
    "- AND    : a & b\n",
    "- OR  :  a | b\n",
    "- NOT   : ~a\n",
    "- OR : a ^ b\n",
    "- => : a >> b"
   ]
  },
  {
   "cell_type": "markdown",
   "metadata": {},
   "source": [
    "1) Représentez la fonction :  f = (x ∧ y) ∨ (y ∧ z) ∨ (z ∧ x) où x,y et z sont des symboles"
   ]
  },
  {
   "cell_type": "code",
   "execution_count": null,
   "metadata": {},
   "outputs": [],
   "source": [
    "# A compléter ...\n",
    "# ...\n",
    "\n"
   ]
  },
  {
   "cell_type": "markdown",
   "metadata": {},
   "source": [
    "2) Que vaut f quand x et y sont vrai, et z faux?\n",
    "\n",
    "Et quand x est vrai, y et z sont faux?\n",
    "\n"
   ]
  },
  {
   "cell_type": "code",
   "execution_count": null,
   "metadata": {},
   "outputs": [],
   "source": [
    "# A compléter ...\n",
    "# f quand  x est vrai, y et z sont faux?\n",
    "# ...\n"
   ]
  },
  {
   "cell_type": "code",
   "execution_count": null,
   "metadata": {},
   "outputs": [],
   "source": [
    "# A compléter ...\n",
    "# f quand x et y sont vrai, et z faux?\n",
    "# ..."
   ]
  },
  {
   "cell_type": "markdown",
   "metadata": {},
   "source": [
    "3) On peut aussi mélanger valuation et variables: Que sera le résultat de $f$ si on substitue FAUX à la variable y ?"
   ]
  },
  {
   "cell_type": "code",
   "execution_count": null,
   "metadata": {},
   "outputs": [],
   "source": [
    "# A compléter ...\n",
    "# ..."
   ]
  },
  {
   "cell_type": "markdown",
   "metadata": {},
   "source": [
    "5) \n",
    "Simplifier l'expression logique suivante :\n",
    "\n",
    "\n",
    "$$(A ∨ B)∧ (A ∨ \\neg B)∧ (\\neg A ∨ B) $$\n",
    "\n"
   ]
  },
  {
   "cell_type": "code",
   "execution_count": null,
   "metadata": {},
   "outputs": [],
   "source": [
    "# A compléter ...\n",
    "# ...\n",
    "\n"
   ]
  },
  {
   "cell_type": "markdown",
   "metadata": {},
   "source": [
    "6) Vérifier sur toutes les possibilités que le résultat est correct (on écrira une boucle!)"
   ]
  },
  {
   "cell_type": "code",
   "execution_count": null,
   "metadata": {},
   "outputs": [],
   "source": [
    "# A compléter ...\n",
    "# ..."
   ]
  },
  {
   "cell_type": "markdown",
   "metadata": {},
   "source": [
    "Mise sous forme normale: toute expression peut être mise sous forme normale\n",
    "- d'une conjonction de disjonctions (FN conjonctive)\n",
    "- d'une disjonction de conjonctions (FN disjonctive)\n",
    "\n",
    "Pour trouver la FN conjonctive (resp. disjonctive) de , on fait appel à la fonction to_cnf (resp.\n",
    "to_dnf ) de sympy"
   ]
  },
  {
   "cell_type": "markdown",
   "metadata": {},
   "source": [
    "7) Définir la fonction f : $ \\neg ( z \\to x)\\wedge (x \\vee y)$\n"
   ]
  },
  {
   "cell_type": "code",
   "execution_count": null,
   "metadata": {},
   "outputs": [],
   "source": [
    "# A compléter ...\n",
    "# ...\n",
    "\n",
    "print(\"Avec print\")\n",
    "print(f)\n",
    "print(\"Avec display\")\n",
    "display(f)"
   ]
  },
  {
   "cell_type": "code",
   "execution_count": null,
   "metadata": {},
   "outputs": [],
   "source": [
    "# A compléter ...\n",
    "# ...\n",
    "\n"
   ]
  },
  {
   "cell_type": "code",
   "execution_count": null,
   "metadata": {},
   "outputs": [],
   "source": [
    "# A compléter ...\n",
    "# ...\n",
    "\n"
   ]
  },
  {
   "cell_type": "markdown",
   "metadata": {},
   "source": [
    "8) Simplifier f"
   ]
  },
  {
   "cell_type": "code",
   "execution_count": null,
   "metadata": {},
   "outputs": [],
   "source": [
    "# A compléter ...\n",
    "# ...\n"
   ]
  }
 ],
 "metadata": {
  "celltoolbar": "Format de la Cellule Texte Brut",
  "kernelspec": {
   "display_name": "Python 3 (ipykernel)",
   "language": "python",
   "name": "python3"
  },
  "language_info": {
   "codemirror_mode": {
    "name": "ipython",
    "version": 3
   },
   "file_extension": ".py",
   "mimetype": "text/x-python",
   "name": "python",
   "nbconvert_exporter": "python",
   "pygments_lexer": "ipython3",
   "version": "3.10.12"
  },
  "latex_envs": {
   "LaTeX_envs_menu_present": true,
   "autoclose": true,
   "autocomplete": true,
   "bibliofile": "biblio.bib",
   "cite_by": "apalike",
   "current_citInitial": 1,
   "eqLabelWithNumbers": true,
   "eqNumInitial": 1,
   "hotkeys": {
    "equation": "Ctrl-E",
    "itemize": "Ctrl-I"
   },
   "labels_anchors": true,
   "latex_user_defs": true,
   "report_style_numbering": true,
   "user_envs_cfg": true
  },
  "nb.metadata.authors": {
   "name": "Youssef CHAHIR"
  },
  "toc": {
   "base_numbering": 1,
   "nav_menu": {
    "height": "211px",
    "width": "339px"
   },
   "number_sections": false,
   "sideBar": true,
   "skip_h1_title": false,
   "title_cell": "Table of Contents",
   "title_sidebar": "Contents",
   "toc_cell": false,
   "toc_position": {},
   "toc_section_display": true,
   "toc_window_display": false
  },
  "varInspector": {
   "cols": {
    "lenName": 16,
    "lenType": 16,
    "lenVar": 40
   },
   "kernels_config": {
    "python": {
     "delete_cmd_postfix": "",
     "delete_cmd_prefix": "del ",
     "library": "var_list.py",
     "varRefreshCmd": "print(var_dic_list())"
    },
    "r": {
     "delete_cmd_postfix": ") ",
     "delete_cmd_prefix": "rm(",
     "library": "var_list.r",
     "varRefreshCmd": "cat(var_dic_list()) "
    }
   },
   "types_to_exclude": [
    "module",
    "function",
    "builtin_function_or_method",
    "instance",
    "_Feature"
   ],
   "window_display": false
  }
 },
 "nbformat": 4,
 "nbformat_minor": 4
}
