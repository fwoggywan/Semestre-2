{
 "cells": [
  {
   "cell_type": "markdown",
   "metadata": {
    "deletable": false,
    "run_control": {
     "frozen": true
    }
   },
   "source": [
    "## L1 informatique -- Calcul scientifique\n",
    "## TP 1:  prise en main du jupyter notebook et premiers pas avec sympy"
   ]
  },
  {
   "cell_type": "markdown",
   "metadata": {},
   "source": [
    "Ludewig Louis"
   ]
  },
  {
   "cell_type": "markdown",
   "metadata": {},
   "source": [
    "**Objectifs du TP** : \n",
    "\n",
    "- Savoir exécuter jupyter notebook, lancer/sauvegarder un notebook,importer une librairie.\n",
    "- Introduction à sympy , quelques calculs et graphes de base\n",
    "\n",
    "**Ce TP est à finir** (même s'il n'est pas à rendre); ce sera très utile pour les exos noté et le TP noté.\n",
    "\n",
    "**Quelques conseils de base** : Pour chaque fiche de TP, nous utiliserons un calepin jupyter            notebook. Il est conseillé de créer un répertoire CalculScientifique, puis un sous-répertoire pour chaque TP (e.g., TP1, TP2, TP3....). En général, une archive, que vous pouvez télécharger sur ecampus, est composée du fichier TP_X.ipynb qui contient les commandes (pratiquement) pré-remplies correspondant au TP X ainsi que les ressources nécessaires. Il faut *renommer* le fichier .ipynb sous  la forme <u>TP_X_Nom_Prenom.ipynb</u>. Dans un répertoire TP1, vous stockerez donc : \n",
    "    - Le fichier TP_1_Nom_Prenom.ipynb\n",
    "    - Le fichier TP_1_Nom_Prenom au format PDF \n",
    "    - Les fichiers de données (qui y seront téléchargés)"
   ]
  },
  {
   "cell_type": "markdown",
   "metadata": {},
   "source": [
    "## I) Jupyter Notebook\n",
    "\n",
    "### Mise en forme\n",
    "Ajoutez une nouvelle cellule tout en haut du jupyter notebook sous le titre.  Puis, vous ajouter votre nom et votre prénom  dans cette cellule sous format `Markdown`. Votre nom doit être en gras. On pourra cliquer sur une cellule pour voir le \"code\"  pour mettre différents niveaux de titres."
   ]
  },
  {
   "cell_type": "markdown",
   "metadata": {},
   "source": [
    "## II) Utilisation de Sympy\n"
   ]
  },
  {
   "cell_type": "markdown",
   "metadata": {},
   "source": [
    "Il s'agit de \"faire faire\" des maths à python grâce à sympy. Il s'agit pour cette première expérience de travailler avec de polynômes et des systèmes , comme en algèbre au semestre 1.\n",
    "\n",
    "Quelques outils à utiliser: display, pprint, factor, expand, subs, eq, solve, diff, div\n",
    "et à retenir...."
   ]
  },
  {
   "cell_type": "markdown",
   "metadata": {},
   "source": [
    "## Exercice 1 - premiers calculs avec sympy\n"
   ]
  },
  {
   "cell_type": "markdown",
   "metadata": {},
   "source": [
    "Ne pas oublier de commencer par importer sympy"
   ]
  },
  {
   "cell_type": "code",
   "execution_count": 1,
   "metadata": {},
   "outputs": [],
   "source": [
    "import sympy as sp"
   ]
  },
  {
   "cell_type": "markdown",
   "metadata": {},
   "source": [
    "Exemple: on définit $\\sqrt {2}$ puis on l'affiche de plusieurs manières (print, sp.pprint, display)"
   ]
  },
  {
   "cell_type": "code",
   "execution_count": 2,
   "metadata": {},
   "outputs": [
    {
     "name": "stdout",
     "output_type": "stream",
     "text": [
      "avec print :\n",
      "e= sqrt(2)\n",
      "\n",
      "avec sp.pprint :\n",
      "√2\n",
      "\n",
      "avec display :\n"
     ]
    },
    {
     "data": {
      "text/latex": [
       "$\\displaystyle \\sqrt{2}$"
      ],
      "text/plain": [
       "sqrt(2)"
      ]
     },
     "metadata": {},
     "output_type": "display_data"
    }
   ],
   "source": [
    "e= sp.sqrt(2)\n",
    "print(\"avec print :\")\n",
    "print(\"e=\",e)\n",
    "\n",
    "print(\"\\navec sp.pprint :\")\n",
    "sp.pprint(e)\n",
    "\n",
    "print(\"\\navec display :\")\n",
    "display(e)"
   ]
  },
  {
   "cell_type": "markdown",
   "metadata": {},
   "source": [
    "<hr/>\n",
    "1. Définir le symbole x puis les expressions:\n",
    "\n",
    "$e_1=x^3-8$ \n",
    "\n",
    "$e_2=(x-2)(x^2-8)$\n",
    "\n",
    "On essayera plusieurs affichage ( print, sp.pprint et display)"
   ]
  },
  {
   "cell_type": "code",
   "execution_count": 3,
   "metadata": {},
   "outputs": [
    {
     "name": "stdout",
     "output_type": "stream",
     "text": [
      "Avec print :\n",
      "x**3 - 8\n",
      "(x - 2)*(x**2 - 8)\n",
      "\n",
      "Avec sp.pprint :\n",
      " 3    \n",
      "x  - 8\n",
      "        ⎛ 2    ⎞\n",
      "(x - 2)⋅⎝x  - 8⎠\n",
      "\n",
      "Avec display :\n"
     ]
    },
    {
     "data": {
      "text/latex": [
       "$\\displaystyle x^{3} - 8$"
      ],
      "text/plain": [
       "x**3 - 8"
      ]
     },
     "metadata": {},
     "output_type": "display_data"
    },
    {
     "data": {
      "text/latex": [
       "$\\displaystyle \\left(x - 2\\right) \\left(x^{2} - 8\\right)$"
      ],
      "text/plain": [
       "(x - 2)*(x**2 - 8)"
      ]
     },
     "metadata": {},
     "output_type": "display_data"
    }
   ],
   "source": [
    "# Définir le symbole x\n",
    "# A compléter ...\n",
    "x= sp.Symbol(\"x\")\n",
    "\n",
    "# Définir les expressions e1, e2 et e3 \n",
    "# A compléter ...\n",
    "\n",
    "e1= x**3-8\n",
    "e2= (x-2)*(x**2-8)\n",
    "\n",
    "\n",
    "\n",
    "print(\"Avec print :\")\n",
    "print(e1)\n",
    "print(e2)\n",
    "\n",
    "\n",
    "print(\"\\nAvec sp.pprint :\")\n",
    "sp.pprint(e1)\n",
    "sp.pprint(e2)\n",
    "\n",
    "\n",
    "print(\"\\nAvec display :\")\n",
    "display(e1)\n",
    "display(e2)\n",
    "\n"
   ]
  },
  {
   "cell_type": "markdown",
   "metadata": {},
   "source": [
    "<hr/>\n",
    "2. calculer la valeur de $e_1$  pour x=2 et pour x=-2."
   ]
  },
  {
   "cell_type": "code",
   "execution_count": 4,
   "metadata": {},
   "outputs": [
    {
     "data": {
      "text/latex": [
       "$\\displaystyle 0$"
      ],
      "text/plain": [
       "0"
      ]
     },
     "metadata": {},
     "output_type": "display_data"
    },
    {
     "data": {
      "text/latex": [
       "$\\displaystyle -16$"
      ],
      "text/plain": [
       "-16"
      ]
     },
     "metadata": {},
     "output_type": "display_data"
    }
   ],
   "source": [
    "# A compléter ...\n",
    "a = e1.subs(x,2)\n",
    "display(a)\n",
    "b = e1.subs(x, -2)\n",
    "display(b)"
   ]
  },
  {
   "cell_type": "markdown",
   "metadata": {},
   "source": [
    "<hr/>\n",
    "3. Factoriser $e_1$ et développer $e_2$."
   ]
  },
  {
   "cell_type": "code",
   "execution_count": 5,
   "metadata": {},
   "outputs": [
    {
     "data": {
      "text/latex": [
       "$\\displaystyle \\left(x - 2\\right) \\left(x^{2} + 2 x + 4\\right)$"
      ],
      "text/plain": [
       "(x - 2)*(x**2 + 2*x + 4)"
      ]
     },
     "metadata": {},
     "output_type": "display_data"
    },
    {
     "data": {
      "text/latex": [
       "$\\displaystyle x^{3} - 2 x^{2} - 8 x + 16$"
      ],
      "text/plain": [
       "x**3 - 2*x**2 - 8*x + 16"
      ]
     },
     "metadata": {},
     "output_type": "display_data"
    }
   ],
   "source": [
    "# A compléter ...\n",
    "e1 = e1.factor()\n",
    "e2 = e2.expand()\n",
    "display(e1)\n",
    "display(e2)"
   ]
  },
  {
   "cell_type": "markdown",
   "metadata": {},
   "source": [
    "<hr>\n",
    "4. Simplifiez les expressions suivantes :\n",
    "\n",
    "\\begin{equation*}\n",
    "\\frac{x^2 + 2x + 1}{x + 1}\n",
    "\\end{equation*}\n",
    "\n",
    "\\begin{equation*}\n",
    "sin^2(x)+cos^2(x)\n",
    "\\end{equation*}\n",
    "\n"
   ]
  },
  {
   "cell_type": "code",
   "execution_count": 6,
   "metadata": {},
   "outputs": [
    {
     "name": "stdout",
     "output_type": "stream",
     "text": [
      "Expression simplifiée 1 : x + 1\n",
      "Expression simplifiée 2 : 1\n"
     ]
    }
   ],
   "source": [
    "# A compléter ...\n",
    "\n",
    "expression1 = (x**2 + 2*x + 1)/(x+1)\n",
    "\n",
    "expression_simplifiee1 = expression1.simplify()\n",
    "print(\"Expression simplifiée 1 :\", expression_simplifiee1)\n",
    "\n",
    "expression2 =  sp.sin(x)**2 + sp.cos(x)**2\n",
    "\n",
    "expression_simplifiee2 = sp.simplify(expression2)\n",
    "print(\"Expression simplifiée 2 :\", expression_simplifiee2)"
   ]
  },
  {
   "cell_type": "markdown",
   "metadata": {},
   "source": [
    "<hr/>\n",
    "5. Calculer et factoriser $e=e_1+e_2$  et $ee=e_1-e_2$"
   ]
  },
  {
   "cell_type": "code",
   "execution_count": 7,
   "metadata": {},
   "outputs": [
    {
     "data": {
      "text/latex": [
       "$\\displaystyle x^{3} - 2 x^{2} - 8 x + \\left(x - 2\\right) \\left(x^{2} + 2 x + 4\\right) + 16$"
      ],
      "text/plain": [
       "x**3 - 2*x**2 - 8*x + (x - 2)*(x**2 + 2*x + 4) + 16"
      ]
     },
     "metadata": {},
     "output_type": "display_data"
    },
    {
     "data": {
      "text/latex": [
       "$\\displaystyle - x^{3} + 2 x^{2} + 8 x + \\left(x - 2\\right) \\left(x^{2} + 2 x + 4\\right) - 16$"
      ],
      "text/plain": [
       "-x**3 + 2*x**2 + 8*x + (x - 2)*(x**2 + 2*x + 4) - 16"
      ]
     },
     "metadata": {},
     "output_type": "display_data"
    },
    {
     "data": {
      "text/latex": [
       "$\\displaystyle 2 \\left(x - 2\\right) \\left(x - 1\\right) \\left(x + 2\\right)$"
      ],
      "text/plain": [
       "2*(x - 2)*(x - 1)*(x + 2)"
      ]
     },
     "metadata": {},
     "output_type": "display_data"
    },
    {
     "data": {
      "text/latex": [
       "$\\displaystyle 2 \\left(x - 2\\right) \\left(x + 6\\right)$"
      ],
      "text/plain": [
       "2*(x - 2)*(x + 6)"
      ]
     },
     "metadata": {},
     "output_type": "display_data"
    }
   ],
   "source": [
    "# A compléter ...\n",
    "e = e1 + e2\n",
    "ee = e1 - e2\n",
    "display(e)\n",
    "display(ee)\n",
    "e = e.factor()\n",
    "ee = ee.factor()\n",
    "display(e)\n",
    "display(ee)"
   ]
  },
  {
   "cell_type": "markdown",
   "metadata": {},
   "source": [
    "<hr/>\n",
    "6. Déterminer les racines de e et ee"
   ]
  },
  {
   "cell_type": "code",
   "execution_count": 8,
   "metadata": {},
   "outputs": [
    {
     "data": {
      "text/latex": [
       "$\\displaystyle \\sqrt{2} \\sqrt{\\left(x - 2\\right) \\left(x - 1\\right) \\left(x + 2\\right)}$"
      ],
      "text/plain": [
       "sqrt(2)*sqrt((x - 2)*(x - 1)*(x + 2))"
      ]
     },
     "metadata": {},
     "output_type": "display_data"
    }
   ],
   "source": [
    "x = sp.sqrt(e)\n",
    "display(x)"
   ]
  },
  {
   "cell_type": "code",
   "execution_count": 9,
   "metadata": {},
   "outputs": [
    {
     "data": {
      "text/latex": [
       "$\\displaystyle \\sqrt{2} \\sqrt{\\left(x - 2\\right) \\left(x + 6\\right)}$"
      ],
      "text/plain": [
       "sqrt(2)*sqrt((x - 2)*(x + 6))"
      ]
     },
     "metadata": {},
     "output_type": "display_data"
    }
   ],
   "source": [
    "# A compléter ...\n",
    "y = sp.sqrt(ee)\n",
    "display(y)"
   ]
  },
  {
   "cell_type": "markdown",
   "metadata": {},
   "source": [
    "<hr/>\n",
    "7. Créer les équations e=0 et ee=0"
   ]
  },
  {
   "cell_type": "code",
   "execution_count": 10,
   "metadata": {},
   "outputs": [
    {
     "name": "stdout",
     "output_type": "stream",
     "text": [
      "Equation 1 :\n"
     ]
    },
    {
     "data": {
      "text/latex": [
       "$\\displaystyle 2 \\left(x - 2\\right) \\left(x - 1\\right) \\left(x + 2\\right) = 0$"
      ],
      "text/plain": [
       "Eq(2*(x - 2)*(x - 1)*(x + 2), 0)"
      ]
     },
     "metadata": {},
     "output_type": "display_data"
    },
    {
     "name": "stdout",
     "output_type": "stream",
     "text": [
      "Equation 2 :\n"
     ]
    },
    {
     "data": {
      "text/latex": [
       "$\\displaystyle 2 \\left(x - 2\\right) \\left(x + 6\\right) = 0$"
      ],
      "text/plain": [
       "Eq(2*(x - 2)*(x + 6), 0)"
      ]
     },
     "metadata": {},
     "output_type": "display_data"
    }
   ],
   "source": [
    "# A compléter ...\n",
    "eq1= sp.Eq(e,0)\n",
    "eq2= sp.Eq(ee,0)\n",
    "\n",
    "print(\"Equation 1 :\")\n",
    "display(eq1)\n",
    "print(\"Equation 2 :\")\n",
    "display(eq2)"
   ]
  },
  {
   "cell_type": "markdown",
   "metadata": {},
   "source": [
    "<hr/>\n",
    "8. Résoudre le système \n"
   ]
  },
  {
   "cell_type": "markdown",
   "metadata": {},
   "source": [
    "$$\n",
    "\\begin{cases}\n",
    "    e = 0 \\\\\n",
    "    ee = 0\n",
    "\\end{cases}\n",
    "$$\n"
   ]
  },
  {
   "cell_type": "code",
   "execution_count": 11,
   "metadata": {},
   "outputs": [
    {
     "name": "stdout",
     "output_type": "stream",
     "text": [
      "Solution :\n"
     ]
    },
    {
     "data": {
      "text/plain": [
       "[{x: 2}]"
      ]
     },
     "metadata": {},
     "output_type": "display_data"
    }
   ],
   "source": [
    "print (\"Solution :\")\n",
    "# A compléter ...\n",
    "solution = sp.solve((e,ee),dict=True)\n",
    "display(solution)"
   ]
  },
  {
   "cell_type": "markdown",
   "metadata": {},
   "source": [
    "## Exercice 2 - résolution de systèmes avec sympy"
   ]
  },
  {
   "cell_type": "markdown",
   "metadata": {},
   "source": [
    " A) Résoudre avec sympy les systèmes suivants :\n",
    "\n",
    "$$\n",
    "1)\\begin{cases}\n",
    "       5x+2y+3z=-2\\\\\n",
    "       2x-2y+5z=0\\\\\n",
    "       3x+4y+2z=10\n",
    "\\end{cases}\n",
    "$$\n",
    "\n",
    "$$\n",
    "2)\\begin{cases}\n",
    "       2x-y+3z=9\\\\\n",
    "       3x-5y+z=-4\\\\\n",
    "       4x-7y+z=5\n",
    "\\end{cases}\n",
    "$$\n",
    "\n",
    "$$\n",
    "3)\\begin{cases}\n",
    "       x+y-z=2\\\\\n",
    "       2x+3y+2z=1\\\\\n",
    "       x+2y+3z=-1\n",
    "\\end{cases}\n",
    "$$\n",
    "<hr>\n"
   ]
  },
  {
   "cell_type": "code",
   "execution_count": 15,
   "metadata": {},
   "outputs": [],
   "source": [
    "# Définir les variables symboliques\n",
    "# A compléter ...\n",
    "x,y,z = sp.symbols('x,y,z')\n",
    "\n",
    "# Définir les systèmes d'équations\n",
    "# A compléter ...\n",
    "e1 = 5*x + 2*y + 3*z\n",
    "e2 = 2*x - 2*y + 5*z\n",
    "e3 = 3*x + 4*y + 2*z\n",
    "e= sp.Eq(e1,-2)\n",
    "ee= sp.Eq(e2,0)\n",
    "eee= sp.Eq(e3,10)\n"
   ]
  },
  {
   "cell_type": "code",
   "execution_count": 17,
   "metadata": {},
   "outputs": [
    {
     "data": {
      "text/plain": [
       "[{x: -26/7, y: 53/14, z: 3}]"
      ]
     },
     "metadata": {},
     "output_type": "display_data"
    }
   ],
   "source": [
    "# A compléter ...\n",
    "\n",
    "# Afficher les solutions\n",
    "solution1 = sp.solve((e,ee,eee),dict=True)\n",
    "display(solution1)"
   ]
  },
  {
   "cell_type": "code",
   "execution_count": null,
   "metadata": {},
   "outputs": [],
   "source": [
    "# A compléter ...\n",
    "\n",
    "print(\"\\nSolution du système 2:\")\n",
    "print(solution2)\n"
   ]
  },
  {
   "cell_type": "code",
   "execution_count": null,
   "metadata": {},
   "outputs": [],
   "source": [
    "# A compléter ...\n",
    "\n",
    "print(\"solution du systeme 2 \")\n",
    "sp.solve([eq1,eq2,eq3])"
   ]
  },
  {
   "cell_type": "code",
   "execution_count": null,
   "metadata": {},
   "outputs": [],
   "source": [
    "# A compléter ...\n",
    "\n",
    "print(\"\\nSolution du système 3:\")\n",
    "print(solution3)"
   ]
  },
  {
   "cell_type": "markdown",
   "metadata": {},
   "source": [
    "<hr/>\n",
    "B) On considère le système:\n",
    "\n",
    "$$\n",
    "  \\begin{cases}\n",
    "       x+my = -3\\\\\n",
    "       mx+4y= 6      \n",
    "  \\end{cases}\n",
    "$$\n",
    "\n",
    "\n",
    "où m est un paramètre.\n",
    "\n",
    "\n",
    "Résoudre ce système avec sympy et remarquer que la solution donnée est la solution la plus générale mais qu'il n'y a pas de discussion selon les valeurs de m.\n",
    "\n",
    "Remarque: attention à bien avoir les solutions pour x et y en fonction de m ."
   ]
  },
  {
   "cell_type": "code",
   "execution_count": 19,
   "metadata": {},
   "outputs": [
    {
     "data": {
      "text/plain": [
       "[{m: -2, x: 2*y - 3}, {m: -(3 - 2*y)/y, x: -2*y}]"
      ]
     },
     "metadata": {},
     "output_type": "display_data"
    }
   ],
   "source": [
    "# A compléter ...\n",
    "x,y,m = sp.symbols('x,y,m')\n",
    "e1 = x + m*y\n",
    "e2 = m*x +4*y\n",
    "e = sp.Eq(e1,-3)\n",
    "ee = sp.Eq(e2,6)\n",
    "solution = sp.solve((e,ee),dict=True)\n",
    "display(solution)"
   ]
  },
  {
   "cell_type": "markdown",
   "metadata": {},
   "source": [
    "## Exercice 3 - polynômes avec sympy"
   ]
  },
  {
   "cell_type": "markdown",
   "metadata": {},
   "source": [
    "On considère le polynome $Q(x)=x^5-4x^4+4x^3+2x^2-5x+2$\n",
    "\n",
    "<hr/>\n",
    "1) Définir et afficher q."
   ]
  },
  {
   "cell_type": "code",
   "execution_count": 20,
   "metadata": {},
   "outputs": [
    {
     "data": {
      "text/latex": [
       "$\\displaystyle x^{5} - 4 x^{4} + 4 x^{3} + 2 x^{2} - 5 x + 2$"
      ],
      "text/plain": [
       "x**5 - 4*x**4 + 4*x**3 + 2*x**2 - 5*x + 2"
      ]
     },
     "metadata": {},
     "output_type": "display_data"
    }
   ],
   "source": [
    "# A compléter ...\n",
    "x = sp.Symbol(\"x\")\n",
    "q = x**5 - 4*x**4 + 4*x**3 +2*x**2 - 5*x + 2 \n",
    "display(q)"
   ]
  },
  {
   "cell_type": "markdown",
   "metadata": {},
   "source": [
    "<hr/>\n",
    "2)Calculer les derivées première , seconde et troisième et quatrième  de q pour x=1.\n",
    "\n",
    "On en déduit que $(x-1)^3$ divise Q . Calculer le quotient (avec sp.div)\n"
   ]
  },
  {
   "cell_type": "code",
   "execution_count": 31,
   "metadata": {},
   "outputs": [
    {
     "data": {
      "text/plain": [
       "'Les 4 valeurs : '"
      ]
     },
     "metadata": {},
     "output_type": "display_data"
    },
    {
     "data": {
      "text/latex": [
       "$\\displaystyle 0$"
      ],
      "text/plain": [
       "0"
      ]
     },
     "metadata": {},
     "output_type": "display_data"
    },
    {
     "data": {
      "text/latex": [
       "$\\displaystyle 0$"
      ],
      "text/plain": [
       "0"
      ]
     },
     "metadata": {},
     "output_type": "display_data"
    },
    {
     "data": {
      "text/latex": [
       "$\\displaystyle 0$"
      ],
      "text/plain": [
       "0"
      ]
     },
     "metadata": {},
     "output_type": "display_data"
    },
    {
     "data": {
      "text/latex": [
       "$\\displaystyle -12$"
      ],
      "text/plain": [
       "-12"
      ]
     },
     "metadata": {},
     "output_type": "display_data"
    },
    {
     "name": "stdout",
     "output_type": "stream",
     "text": [
      "Le quotient :\n"
     ]
    },
    {
     "data": {
      "text/latex": [
       "$\\displaystyle x^{2} - x - 2$"
      ],
      "text/plain": [
       "x**2 - x - 2"
      ]
     },
     "metadata": {},
     "output_type": "display_data"
    }
   ],
   "source": [
    "# A compléter ...\n",
    "r1 = q\n",
    "r2 = r1.diff()\n",
    "r3 = r2.diff()\n",
    "r4 = r3.diff()\n",
    "\n",
    "r1 = r1.subs(x,1)\n",
    "r2 = r2.subs(x,1)\n",
    "r3 = r3.subs(x,1)\n",
    "r4 = r4.subs(x,1)\n",
    "\n",
    "display(\"Les 4 valeurs : \", r1,r2,r3,r4)\n",
    "p = (x-1)**3\n",
    "quotient , r = sp.div(q,p)\n",
    "# A compléter ...\n",
    "\n",
    "print(\"Le quotient :\")\n",
    "display(quotient)"
   ]
  },
  {
   "cell_type": "markdown",
   "metadata": {},
   "source": [
    "<hr/>\n",
    "3) On remarque que 2 est une racine. Faire la division du quotient par x-2"
   ]
  },
  {
   "cell_type": "code",
   "execution_count": 32,
   "metadata": {},
   "outputs": [
    {
     "data": {
      "text/latex": [
       "$\\displaystyle x + 1$"
      ],
      "text/plain": [
       "x + 1"
      ]
     },
     "metadata": {},
     "output_type": "display_data"
    }
   ],
   "source": [
    "# A compléter ...\n",
    "quotient2 , r= sp.div(quotient,x-2)\n",
    "display(quotient2)"
   ]
  },
  {
   "cell_type": "markdown",
   "metadata": {},
   "source": [
    "<hr/>\n",
    "4) On a donc factorisé Q. Afficher le résultat.\n",
    "\n",
    "Retrouver ce résultat avec factor"
   ]
  },
  {
   "cell_type": "code",
   "execution_count": 34,
   "metadata": {},
   "outputs": [
    {
     "data": {
      "text/latex": [
       "$\\displaystyle \\left(x - 2\\right) \\left(x - 1\\right)^{3} \\left(x + 1\\right)$"
      ],
      "text/plain": [
       "(x - 2)*(x - 1)**3*(x + 1)"
      ]
     },
     "metadata": {},
     "output_type": "display_data"
    },
    {
     "data": {
      "text/latex": [
       "$\\displaystyle \\left(x - 2\\right) \\left(x - 1\\right)^{3} \\left(x + 1\\right)$"
      ],
      "text/plain": [
       "(x - 2)*(x - 1)**3*(x + 1)"
      ]
     },
     "metadata": {},
     "output_type": "display_data"
    }
   ],
   "source": [
    "# A compléter ...\n",
    "a = q.factor()\n",
    "display(a)\n",
    "\n",
    "#display(q.factor())"
   ]
  },
  {
   "cell_type": "markdown",
   "metadata": {},
   "source": [
    "Remarque: sympy ne peut pas factoriser n'importe quel polynôme:\n",
    "Par exemple pour $R(X)=4X^4+4X^3-29X+21$, on n'obtient pas une factorisation complète (alors qu'en théorie c'est possible)."
   ]
  },
  {
   "cell_type": "code",
   "execution_count": 36,
   "metadata": {},
   "outputs": [
    {
     "data": {
      "text/latex": [
       "$\\displaystyle \\left(x - 1\\right) \\left(4 x^{3} + 8 x^{2} + 8 x - 21\\right)$"
      ],
      "text/plain": [
       "(x - 1)*(4*x**3 + 8*x**2 + 8*x - 21)"
      ]
     },
     "metadata": {},
     "output_type": "display_data"
    }
   ],
   "source": [
    "equa = 4*x**4 + 4*x**3 - 29*x + 21\n",
    "display(equa.factor())"
   ]
  },
  {
   "cell_type": "code",
   "execution_count": null,
   "metadata": {},
   "outputs": [],
   "source": []
  }
 ],
 "metadata": {
  "celltoolbar": "Format de la Cellule Texte Brut",
  "kernelspec": {
   "display_name": "Python 3 (ipykernel)",
   "language": "python",
   "name": "python3"
  },
  "language_info": {
   "codemirror_mode": {
    "name": "ipython",
    "version": 3
   },
   "file_extension": ".py",
   "mimetype": "text/x-python",
   "name": "python",
   "nbconvert_exporter": "python",
   "pygments_lexer": "ipython3",
   "version": "3.10.12"
  },
  "latex_envs": {
   "LaTeX_envs_menu_present": true,
   "autoclose": true,
   "autocomplete": true,
   "bibliofile": "biblio.bib",
   "cite_by": "apalike",
   "current_citInitial": 1,
   "eqLabelWithNumbers": true,
   "eqNumInitial": 1,
   "hotkeys": {
    "equation": "Ctrl-E",
    "itemize": "Ctrl-I"
   },
   "labels_anchors": true,
   "latex_user_defs": true,
   "report_style_numbering": true,
   "user_envs_cfg": true
  },
  "nb.metadata.authors": {
   "name": "Youssef CHAHIR"
  },
  "toc": {
   "base_numbering": 1,
   "nav_menu": {
    "height": "211px",
    "width": "339px"
   },
   "number_sections": false,
   "sideBar": true,
   "skip_h1_title": false,
   "title_cell": "Table of Contents",
   "title_sidebar": "Contents",
   "toc_cell": false,
   "toc_position": {},
   "toc_section_display": true,
   "toc_window_display": false
  },
  "varInspector": {
   "cols": {
    "lenName": 16,
    "lenType": 16,
    "lenVar": 40
   },
   "kernels_config": {
    "python": {
     "delete_cmd_postfix": "",
     "delete_cmd_prefix": "del ",
     "library": "var_list.py",
     "varRefreshCmd": "print(var_dic_list())"
    },
    "r": {
     "delete_cmd_postfix": ") ",
     "delete_cmd_prefix": "rm(",
     "library": "var_list.r",
     "varRefreshCmd": "cat(var_dic_list()) "
    }
   },
   "types_to_exclude": [
    "module",
    "function",
    "builtin_function_or_method",
    "instance",
    "_Feature"
   ],
   "window_display": false
  }
 },
 "nbformat": 4,
 "nbformat_minor": 4
}
